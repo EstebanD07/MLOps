{
 "cells": [
  {
   "cell_type": "markdown",
   "metadata": {},
   "source": [
    "<b>Objectif :</b>\n",
    "\n",
    "En utilisant le dataset `synthetic_housing_dataset.csv`, vous allez préparer un modèle de prediction de prix d'appartement étant données ses caractéristiques\n",
    "\n",
    "<b>Directives :</b>\n",
    "\n",
    "Veuillez suivre les étapes de `CRISP-DM` pour dévéloper le modèle."
   ]
  },
  {
   "cell_type": "markdown",
   "metadata": {},
   "source": [
    "## Compérehsnion du métier"
   ]
  },
  {
   "cell_type": "markdown",
   "metadata": {},
   "source": [
    "L'objectif de ce projet est de construire un modèle de prédiction de prix des appartements en utilisant les données fournies dans le fichier `synthetic_housing_dataset.csv`. \n",
    "Le modèle permettra de prévoir la valeur d'un appartement en fonction de ses caractéristiques, telles que la superficie, le nombre de chambres, l'emplacement, etc.\n",
    "\n",
    "### Contexte métier :\n",
    "- Les prix des appartements varient considérablement en fonction des caractéristiques physiques et de l'emplacement géographique.\n",
    "- Comprendre ces relations peut aider les promoteurs immobiliers, les agences et les particuliers à mieux évaluer les biens immobiliers.\n",
    "- Un modèle prédictif permettra d'automatiser et d'améliorer l'exactitude des estimations.\n",
    "\n",
    "### Objectifs spécifiques :\n",
    "1. Identifier les caractéristiques les plus influentes sur les prix.\n",
    "2. Construire un modèle robuste pour prédire les prix.\n",
    "3. Évaluer les performances du modèle avec des métriques adaptées (par exemple, MAE, RMSE).\n",
    "\n",
    "\n",
    "### Étapes :\n",
    "1. Chargement des données depuis le fichier CSV.\n",
    "2. Exploration des données pour identifier les caractéristiques importantes.\n",
    "3. Séparation des données en deux ensembles : \n",
    "   - **X (features)** : les caractéristiques utilisées pour la prédiction.\n",
    "   - **y (target)** : la variable cible (prix des appartements).\n"
   ]
  },
  {
   "cell_type": "code",
   "execution_count": 176,
   "metadata": {},
   "outputs": [
    {
     "name": "stdout",
     "output_type": "stream",
     "text": [
      "Aperçu des données :\n"
     ]
    },
    {
     "data": {
      "text/html": [
       "<div>\n",
       "<style scoped>\n",
       "    .dataframe tbody tr th:only-of-type {\n",
       "        vertical-align: middle;\n",
       "    }\n",
       "\n",
       "    .dataframe tbody tr th {\n",
       "        vertical-align: top;\n",
       "    }\n",
       "\n",
       "    .dataframe thead th {\n",
       "        text-align: right;\n",
       "    }\n",
       "</style>\n",
       "<table border=\"1\" class=\"dataframe\">\n",
       "  <thead>\n",
       "    <tr style=\"text-align: right;\">\n",
       "      <th></th>\n",
       "      <th>size_m2</th>\n",
       "      <th>num_bedrooms</th>\n",
       "      <th>num_bathrooms</th>\n",
       "      <th>distance_school</th>\n",
       "      <th>public_transport_access</th>\n",
       "      <th>property_tax</th>\n",
       "      <th>date_built</th>\n",
       "      <th>city</th>\n",
       "      <th>price</th>\n",
       "    </tr>\n",
       "  </thead>\n",
       "  <tbody>\n",
       "    <tr>\n",
       "      <th>0</th>\n",
       "      <td>10000.000000</td>\n",
       "      <td>2.789029</td>\n",
       "      <td>2.569210</td>\n",
       "      <td>4.148195</td>\n",
       "      <td>5.793163</td>\n",
       "      <td>1244.341795</td>\n",
       "      <td>1988-01-01</td>\n",
       "      <td>Paris</td>\n",
       "      <td>629535.486411</td>\n",
       "    </tr>\n",
       "    <tr>\n",
       "      <th>1</th>\n",
       "      <td>0.000000</td>\n",
       "      <td>2.651413</td>\n",
       "      <td>2.156254</td>\n",
       "      <td>2.734071</td>\n",
       "      <td>2.485035</td>\n",
       "      <td>-558.753511</td>\n",
       "      <td>2014-01-01</td>\n",
       "      <td>Lyon</td>\n",
       "      <td>682734.110117</td>\n",
       "    </tr>\n",
       "    <tr>\n",
       "      <th>2</th>\n",
       "      <td>-50.000000</td>\n",
       "      <td>3.476331</td>\n",
       "      <td>2.822102</td>\n",
       "      <td>0.563755</td>\n",
       "      <td>1.140312</td>\n",
       "      <td>230.558272</td>\n",
       "      <td>1998-01-01</td>\n",
       "      <td>Lyon</td>\n",
       "      <td>705054.855203</td>\n",
       "    </tr>\n",
       "    <tr>\n",
       "      <th>3</th>\n",
       "      <td>226.151493</td>\n",
       "      <td>4.121891</td>\n",
       "      <td>3.441496</td>\n",
       "      <td>8.647224</td>\n",
       "      <td>8.958474</td>\n",
       "      <td>2114.877349</td>\n",
       "      <td>1962-01-01</td>\n",
       "      <td>Marseille</td>\n",
       "      <td>550261.271344</td>\n",
       "    </tr>\n",
       "    <tr>\n",
       "      <th>4</th>\n",
       "      <td>138.292331</td>\n",
       "      <td>2.685204</td>\n",
       "      <td>1.700071</td>\n",
       "      <td>8.129010</td>\n",
       "      <td>11.207891</td>\n",
       "      <td>886.508895</td>\n",
       "      <td>1991-01-01</td>\n",
       "      <td>Toulouse</td>\n",
       "      <td>510619.235213</td>\n",
       "    </tr>\n",
       "  </tbody>\n",
       "</table>\n",
       "</div>"
      ],
      "text/plain": [
       "        size_m2  num_bedrooms  num_bathrooms  distance_school  \\\n",
       "0  10000.000000      2.789029       2.569210         4.148195   \n",
       "1      0.000000      2.651413       2.156254         2.734071   \n",
       "2    -50.000000      3.476331       2.822102         0.563755   \n",
       "3    226.151493      4.121891       3.441496         8.647224   \n",
       "4    138.292331      2.685204       1.700071         8.129010   \n",
       "\n",
       "   public_transport_access  property_tax  date_built       city          price  \n",
       "0                 5.793163   1244.341795  1988-01-01      Paris  629535.486411  \n",
       "1                 2.485035   -558.753511  2014-01-01       Lyon  682734.110117  \n",
       "2                 1.140312    230.558272  1998-01-01       Lyon  705054.855203  \n",
       "3                 8.958474   2114.877349  1962-01-01  Marseille  550261.271344  \n",
       "4                11.207891    886.508895  1991-01-01   Toulouse  510619.235213  "
      ]
     },
     "metadata": {},
     "output_type": "display_data"
    },
    {
     "name": "stdout",
     "output_type": "stream",
     "text": [
      "\n",
      "Résumé des données :\n",
      "<class 'pandas.core.frame.DataFrame'>\n",
      "RangeIndex: 100 entries, 0 to 99\n",
      "Data columns (total 9 columns):\n",
      " #   Column                   Non-Null Count  Dtype  \n",
      "---  ------                   --------------  -----  \n",
      " 0   size_m2                  100 non-null    float64\n",
      " 1   num_bedrooms             95 non-null     float64\n",
      " 2   num_bathrooms            100 non-null    float64\n",
      " 3   distance_school          100 non-null    float64\n",
      " 4   public_transport_access  97 non-null     float64\n",
      " 5   property_tax             100 non-null    float64\n",
      " 6   date_built               100 non-null    object \n",
      " 7   city                     100 non-null    object \n",
      " 8   price                    100 non-null    float64\n",
      "dtypes: float64(7), object(2)\n",
      "memory usage: 7.2+ KB\n",
      "None\n",
      "Dimensions des données :\n",
      "Features (X) : (100, 8)\n",
      "Cible (y) : (100,)\n"
     ]
    }
   ],
   "source": [
    "import pandas as pd\n",
    "\n",
    "dataset_path = \"C:\\\\Users\\\\esteb\\\\OneDrive\\\\Documents\\\\PI\\\\MLOps\\\\synthetic_housing_dataset.csv\"\n",
    "data = pd.read_csv(dataset_path)\n",
    "\n",
    "print(\"Aperçu des données :\")\n",
    "display(data.head())\n",
    "\n",
    "print(\"\\nRésumé des données :\")\n",
    "print(data.info())\n",
    "\n",
    "X = data.drop(columns=['price'])\n",
    "y = data['price']\n",
    "\n",
    "print(f\"Dimensions des données :\\nFeatures (X) : {X.shape}\\nCible (y) : {y.shape}\")"
   ]
  },
  {
   "cell_type": "markdown",
   "metadata": {},
   "source": [
    "## Compréhension des données"
   ]
  },
  {
   "cell_type": "markdown",
   "metadata": {},
   "source": [
    "Diviser les données en entrée (features X) et sortie (cible y)"
   ]
  },
  {
   "cell_type": "code",
   "execution_count": 177,
   "metadata": {},
   "outputs": [
    {
     "name": "stdout",
     "output_type": "stream",
     "text": [
      "Aperçu des features (X) :\n"
     ]
    },
    {
     "data": {
      "text/html": [
       "<div>\n",
       "<style scoped>\n",
       "    .dataframe tbody tr th:only-of-type {\n",
       "        vertical-align: middle;\n",
       "    }\n",
       "\n",
       "    .dataframe tbody tr th {\n",
       "        vertical-align: top;\n",
       "    }\n",
       "\n",
       "    .dataframe thead th {\n",
       "        text-align: right;\n",
       "    }\n",
       "</style>\n",
       "<table border=\"1\" class=\"dataframe\">\n",
       "  <thead>\n",
       "    <tr style=\"text-align: right;\">\n",
       "      <th></th>\n",
       "      <th>size_m2</th>\n",
       "      <th>num_bedrooms</th>\n",
       "      <th>num_bathrooms</th>\n",
       "      <th>distance_school</th>\n",
       "      <th>public_transport_access</th>\n",
       "      <th>property_tax</th>\n",
       "      <th>date_built</th>\n",
       "      <th>city</th>\n",
       "    </tr>\n",
       "  </thead>\n",
       "  <tbody>\n",
       "    <tr>\n",
       "      <th>0</th>\n",
       "      <td>10000.000000</td>\n",
       "      <td>2.789029</td>\n",
       "      <td>2.569210</td>\n",
       "      <td>4.148195</td>\n",
       "      <td>5.793163</td>\n",
       "      <td>1244.341795</td>\n",
       "      <td>1988-01-01</td>\n",
       "      <td>Paris</td>\n",
       "    </tr>\n",
       "    <tr>\n",
       "      <th>1</th>\n",
       "      <td>0.000000</td>\n",
       "      <td>2.651413</td>\n",
       "      <td>2.156254</td>\n",
       "      <td>2.734071</td>\n",
       "      <td>2.485035</td>\n",
       "      <td>-558.753511</td>\n",
       "      <td>2014-01-01</td>\n",
       "      <td>Lyon</td>\n",
       "    </tr>\n",
       "    <tr>\n",
       "      <th>2</th>\n",
       "      <td>-50.000000</td>\n",
       "      <td>3.476331</td>\n",
       "      <td>2.822102</td>\n",
       "      <td>0.563755</td>\n",
       "      <td>1.140312</td>\n",
       "      <td>230.558272</td>\n",
       "      <td>1998-01-01</td>\n",
       "      <td>Lyon</td>\n",
       "    </tr>\n",
       "    <tr>\n",
       "      <th>3</th>\n",
       "      <td>226.151493</td>\n",
       "      <td>4.121891</td>\n",
       "      <td>3.441496</td>\n",
       "      <td>8.647224</td>\n",
       "      <td>8.958474</td>\n",
       "      <td>2114.877349</td>\n",
       "      <td>1962-01-01</td>\n",
       "      <td>Marseille</td>\n",
       "    </tr>\n",
       "    <tr>\n",
       "      <th>4</th>\n",
       "      <td>138.292331</td>\n",
       "      <td>2.685204</td>\n",
       "      <td>1.700071</td>\n",
       "      <td>8.129010</td>\n",
       "      <td>11.207891</td>\n",
       "      <td>886.508895</td>\n",
       "      <td>1991-01-01</td>\n",
       "      <td>Toulouse</td>\n",
       "    </tr>\n",
       "  </tbody>\n",
       "</table>\n",
       "</div>"
      ],
      "text/plain": [
       "        size_m2  num_bedrooms  num_bathrooms  distance_school  \\\n",
       "0  10000.000000      2.789029       2.569210         4.148195   \n",
       "1      0.000000      2.651413       2.156254         2.734071   \n",
       "2    -50.000000      3.476331       2.822102         0.563755   \n",
       "3    226.151493      4.121891       3.441496         8.647224   \n",
       "4    138.292331      2.685204       1.700071         8.129010   \n",
       "\n",
       "   public_transport_access  property_tax  date_built       city  \n",
       "0                 5.793163   1244.341795  1988-01-01      Paris  \n",
       "1                 2.485035   -558.753511  2014-01-01       Lyon  \n",
       "2                 1.140312    230.558272  1998-01-01       Lyon  \n",
       "3                 8.958474   2114.877349  1962-01-01  Marseille  \n",
       "4                11.207891    886.508895  1991-01-01   Toulouse  "
      ]
     },
     "metadata": {},
     "output_type": "display_data"
    },
    {
     "name": "stdout",
     "output_type": "stream",
     "text": [
      "\n",
      "Aperçu de la cible (y) :\n"
     ]
    },
    {
     "data": {
      "text/plain": [
       "0    629535.486411\n",
       "1    682734.110117\n",
       "2    705054.855203\n",
       "3    550261.271344\n",
       "4    510619.235213\n",
       "Name: price, dtype: float64"
      ]
     },
     "metadata": {},
     "output_type": "display_data"
    }
   ],
   "source": [
    "import pandas as pd\n",
    "\n",
    "dataset_path = 'synthetic_housing_dataset.csv'\n",
    "dataset = pd.read_csv(dataset_path)\n",
    "\n",
    "X = dataset.drop(columns=['price'])\n",
    "y = dataset['price']\n",
    "\n",
    "print(\"Aperçu des features (X) :\")\n",
    "display(X.head())\n",
    "\n",
    "print(\"\\nAperçu de la cible (y) :\")\n",
    "display(y.head())"
   ]
  },
  {
   "cell_type": "markdown",
   "metadata": {},
   "source": [
    "Diviser les données en train et test (X_train, X_test, y_train, y_test)"
   ]
  },
  {
   "cell_type": "code",
   "execution_count": 178,
   "metadata": {},
   "outputs": [
    {
     "name": "stdout",
     "output_type": "stream",
     "text": [
      "Dimensions de l'ensemble d'entraînement : X_train = (80, 8), y_train = (80,)\n",
      "Dimensions de l'ensemble de test : X_test = (20, 8), y_test = (20,)\n"
     ]
    }
   ],
   "source": [
    "from sklearn.model_selection import train_test_split\n",
    "\n",
    "X_train, X_test, y_train, y_test = train_test_split(X, y, test_size=0.2, random_state=42)\n",
    "\n",
    "print(f\"Dimensions de l'ensemble d'entraînement : X_train = {X_train.shape}, y_train = {y_train.shape}\")\n",
    "print(f\"Dimensions de l'ensemble de test : X_test = {X_test.shape}, y_test = {y_test.shape}\")"
   ]
  },
  {
   "cell_type": "markdown",
   "metadata": {},
   "source": [
    "Vérifier les types des colonnes"
   ]
  },
  {
   "cell_type": "code",
   "execution_count": 179,
   "metadata": {},
   "outputs": [
    {
     "name": "stdout",
     "output_type": "stream",
     "text": [
      "Types des colonnes dans le dataset :\n",
      "size_m2                    float64\n",
      "num_bedrooms               float64\n",
      "num_bathrooms              float64\n",
      "distance_school            float64\n",
      "public_transport_access    float64\n",
      "property_tax               float64\n",
      "date_built                  object\n",
      "city                        object\n",
      "dtype: object\n"
     ]
    }
   ],
   "source": [
    "print(\"Types des colonnes dans le dataset :\")\n",
    "print(X.dtypes)"
   ]
  },
  {
   "cell_type": "markdown",
   "metadata": {},
   "source": [
    "Analyse descriptive"
   ]
  },
  {
   "cell_type": "code",
   "execution_count": 180,
   "metadata": {},
   "outputs": [
    {
     "name": "stdout",
     "output_type": "stream",
     "text": [
      "Statistiques descriptives des données :\n"
     ]
    },
    {
     "data": {
      "text/html": [
       "<div>\n",
       "<style scoped>\n",
       "    .dataframe tbody tr th:only-of-type {\n",
       "        vertical-align: middle;\n",
       "    }\n",
       "\n",
       "    .dataframe tbody tr th {\n",
       "        vertical-align: top;\n",
       "    }\n",
       "\n",
       "    .dataframe thead th {\n",
       "        text-align: right;\n",
       "    }\n",
       "</style>\n",
       "<table border=\"1\" class=\"dataframe\">\n",
       "  <thead>\n",
       "    <tr style=\"text-align: right;\">\n",
       "      <th></th>\n",
       "      <th>size_m2</th>\n",
       "      <th>num_bedrooms</th>\n",
       "      <th>num_bathrooms</th>\n",
       "      <th>distance_school</th>\n",
       "      <th>public_transport_access</th>\n",
       "      <th>property_tax</th>\n",
       "      <th>price</th>\n",
       "    </tr>\n",
       "  </thead>\n",
       "  <tbody>\n",
       "    <tr>\n",
       "      <th>count</th>\n",
       "      <td>100.000000</td>\n",
       "      <td>95.000000</td>\n",
       "      <td>100.000000</td>\n",
       "      <td>100.000000</td>\n",
       "      <td>97.000000</td>\n",
       "      <td>100.000000</td>\n",
       "      <td>100.000000</td>\n",
       "    </tr>\n",
       "    <tr>\n",
       "      <th>mean</th>\n",
       "      <td>239.304605</td>\n",
       "      <td>2.911012</td>\n",
       "      <td>2.081660</td>\n",
       "      <td>4.712559</td>\n",
       "      <td>4.637516</td>\n",
       "      <td>955.294858</td>\n",
       "      <td>552958.490913</td>\n",
       "    </tr>\n",
       "    <tr>\n",
       "      <th>std</th>\n",
       "      <td>987.255056</td>\n",
       "      <td>0.955481</td>\n",
       "      <td>0.722163</td>\n",
       "      <td>2.897322</td>\n",
       "      <td>3.066544</td>\n",
       "      <td>803.084281</td>\n",
       "      <td>145741.541880</td>\n",
       "    </tr>\n",
       "    <tr>\n",
       "      <th>min</th>\n",
       "      <td>-50.000000</td>\n",
       "      <td>0.518600</td>\n",
       "      <td>0.075309</td>\n",
       "      <td>0.145447</td>\n",
       "      <td>-0.199299</td>\n",
       "      <td>-963.865284</td>\n",
       "      <td>126877.612975</td>\n",
       "    </tr>\n",
       "    <tr>\n",
       "      <th>25%</th>\n",
       "      <td>117.346484</td>\n",
       "      <td>2.345428</td>\n",
       "      <td>1.613437</td>\n",
       "      <td>2.028225</td>\n",
       "      <td>2.278455</td>\n",
       "      <td>469.459761</td>\n",
       "      <td>471887.796953</td>\n",
       "    </tr>\n",
       "    <tr>\n",
       "      <th>50%</th>\n",
       "      <td>139.866728</td>\n",
       "      <td>2.791213</td>\n",
       "      <td>2.111695</td>\n",
       "      <td>4.599573</td>\n",
       "      <td>4.546566</td>\n",
       "      <td>922.619185</td>\n",
       "      <td>556742.850477</td>\n",
       "    </tr>\n",
       "    <tr>\n",
       "      <th>75%</th>\n",
       "      <td>168.257576</td>\n",
       "      <td>3.438545</td>\n",
       "      <td>2.543021</td>\n",
       "      <td>6.938161</td>\n",
       "      <td>6.943386</td>\n",
       "      <td>1482.927155</td>\n",
       "      <td>648621.375838</td>\n",
       "    </tr>\n",
       "    <tr>\n",
       "      <th>max</th>\n",
       "      <td>10000.000000</td>\n",
       "      <td>5.522306</td>\n",
       "      <td>3.652681</td>\n",
       "      <td>9.997177</td>\n",
       "      <td>11.227652</td>\n",
       "      <td>3024.877889</td>\n",
       "      <td>910713.536337</td>\n",
       "    </tr>\n",
       "  </tbody>\n",
       "</table>\n",
       "</div>"
      ],
      "text/plain": [
       "            size_m2  num_bedrooms  num_bathrooms  distance_school  \\\n",
       "count    100.000000     95.000000     100.000000       100.000000   \n",
       "mean     239.304605      2.911012       2.081660         4.712559   \n",
       "std      987.255056      0.955481       0.722163         2.897322   \n",
       "min      -50.000000      0.518600       0.075309         0.145447   \n",
       "25%      117.346484      2.345428       1.613437         2.028225   \n",
       "50%      139.866728      2.791213       2.111695         4.599573   \n",
       "75%      168.257576      3.438545       2.543021         6.938161   \n",
       "max    10000.000000      5.522306       3.652681         9.997177   \n",
       "\n",
       "       public_transport_access  property_tax          price  \n",
       "count                97.000000    100.000000     100.000000  \n",
       "mean                  4.637516    955.294858  552958.490913  \n",
       "std                   3.066544    803.084281  145741.541880  \n",
       "min                  -0.199299   -963.865284  126877.612975  \n",
       "25%                   2.278455    469.459761  471887.796953  \n",
       "50%                   4.546566    922.619185  556742.850477  \n",
       "75%                   6.943386   1482.927155  648621.375838  \n",
       "max                  11.227652   3024.877889  910713.536337  "
      ]
     },
     "metadata": {},
     "output_type": "display_data"
    },
    {
     "data": {
      "image/png": "[encoded data removed]",
      "text/plain": [
       "<Figure size 1500x1000 with 9 Axes>"
      ]
     },
     "metadata": {},
     "output_type": "display_data"
    }
   ],
   "source": [
    "print(\"Statistiques descriptives des données :\")\n",
    "display(dataset.describe())\n",
    "\n",
    "import seaborn as sns\n",
    "import matplotlib.pyplot as plt\n",
    "\n",
    "dataset.hist(bins=20, figsize=(15, 10))\n",
    "plt.tight_layout()\n",
    "plt.show()"
   ]
  },
  {
   "cell_type": "markdown",
   "metadata": {},
   "source": [
    "Analyse des valeurs manquantes"
   ]
  },
  {
   "cell_type": "code",
   "execution_count": 181,
   "metadata": {},
   "outputs": [
    {
     "name": "stdout",
     "output_type": "stream",
     "text": [
      "Valeurs manquantes par colonne :\n"
     ]
    },
    {
     "data": {
      "text/html": [
       "<div>\n",
       "<style scoped>\n",
       "    .dataframe tbody tr th:only-of-type {\n",
       "        vertical-align: middle;\n",
       "    }\n",
       "\n",
       "    .dataframe tbody tr th {\n",
       "        vertical-align: top;\n",
       "    }\n",
       "\n",
       "    .dataframe thead th {\n",
       "        text-align: right;\n",
       "    }\n",
       "</style>\n",
       "<table border=\"1\" class=\"dataframe\">\n",
       "  <thead>\n",
       "    <tr style=\"text-align: right;\">\n",
       "      <th></th>\n",
       "      <th>Valeurs manquantes</th>\n",
       "      <th>Pourcentage (%)</th>\n",
       "    </tr>\n",
       "  </thead>\n",
       "  <tbody>\n",
       "    <tr>\n",
       "      <th>size_m2</th>\n",
       "      <td>0</td>\n",
       "      <td>0.0</td>\n",
       "    </tr>\n",
       "    <tr>\n",
       "      <th>num_bedrooms</th>\n",
       "      <td>5</td>\n",
       "      <td>5.0</td>\n",
       "    </tr>\n",
       "    <tr>\n",
       "      <th>num_bathrooms</th>\n",
       "      <td>0</td>\n",
       "      <td>0.0</td>\n",
       "    </tr>\n",
       "    <tr>\n",
       "      <th>distance_school</th>\n",
       "      <td>0</td>\n",
       "      <td>0.0</td>\n",
       "    </tr>\n",
       "    <tr>\n",
       "      <th>public_transport_access</th>\n",
       "      <td>3</td>\n",
       "      <td>3.0</td>\n",
       "    </tr>\n",
       "    <tr>\n",
       "      <th>property_tax</th>\n",
       "      <td>0</td>\n",
       "      <td>0.0</td>\n",
       "    </tr>\n",
       "    <tr>\n",
       "      <th>date_built</th>\n",
       "      <td>0</td>\n",
       "      <td>0.0</td>\n",
       "    </tr>\n",
       "    <tr>\n",
       "      <th>city</th>\n",
       "      <td>0</td>\n",
       "      <td>0.0</td>\n",
       "    </tr>\n",
       "    <tr>\n",
       "      <th>price</th>\n",
       "      <td>0</td>\n",
       "      <td>0.0</td>\n",
       "    </tr>\n",
       "  </tbody>\n",
       "</table>\n",
       "</div>"
      ],
      "text/plain": [
       "                         Valeurs manquantes  Pourcentage (%)\n",
       "size_m2                                   0              0.0\n",
       "num_bedrooms                              5              5.0\n",
       "num_bathrooms                             0              0.0\n",
       "distance_school                           0              0.0\n",
       "public_transport_access                   3              3.0\n",
       "property_tax                              0              0.0\n",
       "date_built                                0              0.0\n",
       "city                                      0              0.0\n",
       "price                                     0              0.0"
      ]
     },
     "metadata": {},
     "output_type": "display_data"
    },
    {
     "data": {
      "image/png": "[encoded data removed]",
      "text/plain": [
       "<Figure size 640x480 with 1 Axes>"
      ]
     },
     "metadata": {},
     "output_type": "display_data"
    }
   ],
   "source": [
    "missing_values = dataset.isnull().sum()\n",
    "missing_percentage = (missing_values / len(dataset)) * 100\n",
    "\n",
    "print(\"Valeurs manquantes par colonne :\")\n",
    "display(pd.DataFrame({'Valeurs manquantes': missing_values, 'Pourcentage (%)': missing_percentage}))\n",
    "\n",
    "sns.heatmap(dataset.isnull(), cbar=False, cmap='viridis', yticklabels=False)\n",
    "plt.title('Carte des valeurs manquantes')\n",
    "plt.show()"
   ]
  },
  {
   "cell_type": "markdown",
   "metadata": {},
   "source": [
    "Analyse des valeurs aberantes (outliers)"
   ]
  },
  {
   "cell_type": "code",
   "execution_count": 182,
   "metadata": {},
   "outputs": [
    {
     "name": "stdout",
     "output_type": "stream",
     "text": [
      "Colonne : size_m2, Nombre de valeurs aberrantes : 4\n",
      "Colonne : num_bedrooms, Nombre de valeurs aberrantes : 2\n",
      "Colonne : num_bathrooms, Nombre de valeurs aberrantes : 1\n",
      "Colonne : distance_school, Nombre de valeurs aberrantes : 0\n",
      "Colonne : public_transport_access, Nombre de valeurs aberrantes : 0\n",
      "Colonne : property_tax, Nombre de valeurs aberrantes : 1\n",
      "Colonne : price, Nombre de valeurs aberrantes : 2\n",
      "\n",
      "Résumé des valeurs aberrantes :\n"
     ]
    },
    {
     "data": {
      "text/html": [
       "<div>\n",
       "<style scoped>\n",
       "    .dataframe tbody tr th:only-of-type {\n",
       "        vertical-align: middle;\n",
       "    }\n",
       "\n",
       "    .dataframe tbody tr th {\n",
       "        vertical-align: top;\n",
       "    }\n",
       "\n",
       "    .dataframe thead th {\n",
       "        text-align: right;\n",
       "    }\n",
       "</style>\n",
       "<table border=\"1\" class=\"dataframe\">\n",
       "  <thead>\n",
       "    <tr style=\"text-align: right;\">\n",
       "      <th></th>\n",
       "      <th>Nombre de valeurs aberrantes</th>\n",
       "    </tr>\n",
       "  </thead>\n",
       "  <tbody>\n",
       "    <tr>\n",
       "      <th>size_m2</th>\n",
       "      <td>4</td>\n",
       "    </tr>\n",
       "    <tr>\n",
       "      <th>num_bedrooms</th>\n",
       "      <td>2</td>\n",
       "    </tr>\n",
       "    <tr>\n",
       "      <th>num_bathrooms</th>\n",
       "      <td>1</td>\n",
       "    </tr>\n",
       "    <tr>\n",
       "      <th>distance_school</th>\n",
       "      <td>0</td>\n",
       "    </tr>\n",
       "    <tr>\n",
       "      <th>public_transport_access</th>\n",
       "      <td>0</td>\n",
       "    </tr>\n",
       "    <tr>\n",
       "      <th>property_tax</th>\n",
       "      <td>1</td>\n",
       "    </tr>\n",
       "    <tr>\n",
       "      <th>price</th>\n",
       "      <td>2</td>\n",
       "    </tr>\n",
       "  </tbody>\n",
       "</table>\n",
       "</div>"
      ],
      "text/plain": [
       "                         Nombre de valeurs aberrantes\n",
       "size_m2                                             4\n",
       "num_bedrooms                                        2\n",
       "num_bathrooms                                       1\n",
       "distance_school                                     0\n",
       "public_transport_access                             0\n",
       "property_tax                                        1\n",
       "price                                               2"
      ]
     },
     "metadata": {},
     "output_type": "display_data"
    }
   ],
   "source": [
    "def detect_outliers_iqr(data, column):\n",
    "    Q1 = data[column].quantile(0.25)\n",
    "    Q3 = data[column].quantile(0.75)\n",
    "    IQR = Q3 - Q1\n",
    "    lower_bound = Q1 - 1.5 * IQR\n",
    "    upper_bound = Q3 + 1.5 * IQR\n",
    "    outliers = data[(data[column] < lower_bound) | (data[column] > upper_bound)]\n",
    "    return outliers\n",
    "\n",
    "numeric_columns = dataset.select_dtypes(include=['float64', 'int64']).columns\n",
    "\n",
    "outliers_summary = {}\n",
    "\n",
    "for col in numeric_columns:\n",
    "    outliers = detect_outliers_iqr(dataset, col)\n",
    "    outliers_summary[col] = len(outliers)\n",
    "    print(f\"Colonne : {col}, Nombre de valeurs aberrantes : {len(outliers)}\")\n",
    "\n",
    "print(\"\\nRésumé des valeurs aberrantes :\")\n",
    "display(pd.DataFrame.from_dict(outliers_summary, orient='index', columns=['Nombre de valeurs aberrantes']))"
   ]
  },
  {
   "cell_type": "code",
   "execution_count": 183,
   "metadata": {},
   "outputs": [
    {
     "data": {
      "image/png": "[encoded data removed]",
      "text/plain": [
       "<Figure size 800x400 with 1 Axes>"
      ]
     },
     "metadata": {},
     "output_type": "display_data"
    },
    {
     "data": {
      "image/png": "[encoded data removed]",
      "text/plain": [
       "<Figure size 800x400 with 1 Axes>"
      ]
     },
     "metadata": {},
     "output_type": "display_data"
    },
    {
     "data": {
      "image/png": "[encoded data removed]",
      "text/plain": [
       "<Figure size 800x400 with 1 Axes>"
      ]
     },
     "metadata": {},
     "output_type": "display_data"
    },
    {
     "data": {
      "image/png": "[encoded data removed]",
      "text/plain": [
       "<Figure size 800x400 with 1 Axes>"
      ]
     },
     "metadata": {},
     "output_type": "display_data"
    },
    {
     "data": {
      "image/png": "[encoded data removed]",
      "text/plain": [
       "<Figure size 800x400 with 1 Axes>"
      ]
     },
     "metadata": {},
     "output_type": "display_data"
    },
    {
     "data": {
      "image/png": "[encoded data removed]",
      "text/plain": [
       "<Figure size 800x400 with 1 Axes>"
      ]
     },
     "metadata": {},
     "output_type": "display_data"
    },
    {
     "data": {
      "image/png": "[encoded data removed]",
      "text/plain": [
       "<Figure size 800x400 with 1 Axes>"
      ]
     },
     "metadata": {},
     "output_type": "display_data"
    }
   ],
   "source": [
    "\n",
    "for col in dataset.select_dtypes(include=['float64', 'int64']).columns:\n",
    "    plt.figure(figsize=(8, 4))\n",
    "    sns.boxplot(x=dataset[col])\n",
    "    plt.title(f\"Boxplot de la colonne : {col}\")\n",
    "    plt.show()"
   ]
  },
  {
   "cell_type": "markdown",
   "metadata": {},
   "source": [
    "## Préparation des données"
   ]
  },
  {
   "cell_type": "markdown",
   "metadata": {},
   "source": [
    "Nettoyage des données"
   ]
  },
  {
   "cell_type": "code",
   "execution_count": 184,
   "metadata": {},
   "outputs": [
    {
     "name": "stdout",
     "output_type": "stream",
     "text": [
      "Valeurs manquantes après traitement :\n",
      "size_m2                    0\n",
      "num_bedrooms               0\n",
      "num_bathrooms              0\n",
      "distance_school            0\n",
      "public_transport_access    0\n",
      "property_tax               0\n",
      "date_built                 0\n",
      "city                       0\n",
      "price                      0\n",
      "dtype: int64\n"
     ]
    },
    {
     "name": "stderr",
     "output_type": "stream",
     "text": [
      "C:\\Users\\esteb\\AppData\\Local\\Temp\\ipykernel_4408\\3801689720.py:3: FutureWarning: A value is trying to be set on a copy of a DataFrame or Series through chained assignment using an inplace method.\n",
      "The behavior will change in pandas 3.0. This inplace method will never work because the intermediate object on which we are setting values always behaves as a copy.\n",
      "\n",
      "For example, when doing 'df[col].method(value, inplace=True)', try using 'df.method({col: value}, inplace=True)' or df[col] = df[col].method(value) instead, to perform the operation inplace on the original object.\n",
      "\n",
      "\n",
      "  dataset[col].fillna(dataset[col].median(), inplace=True)\n",
      "C:\\Users\\esteb\\AppData\\Local\\Temp\\ipykernel_4408\\3801689720.py:3: FutureWarning: A value is trying to be set on a copy of a DataFrame or Series through chained assignment using an inplace method.\n",
      "The behavior will change in pandas 3.0. This inplace method will never work because the intermediate object on which we are setting values always behaves as a copy.\n",
      "\n",
      "For example, when doing 'df[col].method(value, inplace=True)', try using 'df.method({col: value}, inplace=True)' or df[col] = df[col].method(value) instead, to perform the operation inplace on the original object.\n",
      "\n",
      "\n",
      "  dataset[col].fillna(dataset[col].median(), inplace=True)\n",
      "C:\\Users\\esteb\\AppData\\Local\\Temp\\ipykernel_4408\\3801689720.py:3: FutureWarning: A value is trying to be set on a copy of a DataFrame or Series through chained assignment using an inplace method.\n",
      "The behavior will change in pandas 3.0. This inplace method will never work because the intermediate object on which we are setting values always behaves as a copy.\n",
      "\n",
      "For example, when doing 'df[col].method(value, inplace=True)', try using 'df.method({col: value}, inplace=True)' or df[col] = df[col].method(value) instead, to perform the operation inplace on the original object.\n",
      "\n",
      "\n",
      "  dataset[col].fillna(dataset[col].median(), inplace=True)\n",
      "C:\\Users\\esteb\\AppData\\Local\\Temp\\ipykernel_4408\\3801689720.py:3: FutureWarning: A value is trying to be set on a copy of a DataFrame or Series through chained assignment using an inplace method.\n",
      "The behavior will change in pandas 3.0. This inplace method will never work because the intermediate object on which we are setting values always behaves as a copy.\n",
      "\n",
      "For example, when doing 'df[col].method(value, inplace=True)', try using 'df.method({col: value}, inplace=True)' or df[col] = df[col].method(value) instead, to perform the operation inplace on the original object.\n",
      "\n",
      "\n",
      "  dataset[col].fillna(dataset[col].median(), inplace=True)\n",
      "C:\\Users\\esteb\\AppData\\Local\\Temp\\ipykernel_4408\\3801689720.py:3: FutureWarning: A value is trying to be set on a copy of a DataFrame or Series through chained assignment using an inplace method.\n",
      "The behavior will change in pandas 3.0. This inplace method will never work because the intermediate object on which we are setting values always behaves as a copy.\n",
      "\n",
      "For example, when doing 'df[col].method(value, inplace=True)', try using 'df.method({col: value}, inplace=True)' or df[col] = df[col].method(value) instead, to perform the operation inplace on the original object.\n",
      "\n",
      "\n",
      "  dataset[col].fillna(dataset[col].median(), inplace=True)\n",
      "C:\\Users\\esteb\\AppData\\Local\\Temp\\ipykernel_4408\\3801689720.py:3: FutureWarning: A value is trying to be set on a copy of a DataFrame or Series through chained assignment using an inplace method.\n",
      "The behavior will change in pandas 3.0. This inplace method will never work because the intermediate object on which we are setting values always behaves as a copy.\n",
      "\n",
      "For example, when doing 'df[col].method(value, inplace=True)', try using 'df.method({col: value}, inplace=True)' or df[col] = df[col].method(value) instead, to perform the operation inplace on the original object.\n",
      "\n",
      "\n",
      "  dataset[col].fillna(dataset[col].median(), inplace=True)\n",
      "C:\\Users\\esteb\\AppData\\Local\\Temp\\ipykernel_4408\\3801689720.py:7: FutureWarning: A value is trying to be set on a copy of a DataFrame or Series through chained assignment using an inplace method.\n",
      "The behavior will change in pandas 3.0. This inplace method will never work because the intermediate object on which we are setting values always behaves as a copy.\n",
      "\n",
      "For example, when doing 'df[col].method(value, inplace=True)', try using 'df.method({col: value}, inplace=True)' or df[col] = df[col].method(value) instead, to perform the operation inplace on the original object.\n",
      "\n",
      "\n",
      "  dataset[col].fillna(dataset[col].mode()[0], inplace=True)\n"
     ]
    }
   ],
   "source": [
    "numeric_columns = dataset.select_dtypes(include=['float64', 'int64']).columns\n",
    "for col in numeric_columns:\n",
    "    dataset[col].fillna(dataset[col].median(), inplace=True)\n",
    "\n",
    "categorical_columns = dataset.select_dtypes(include=['object']).columns\n",
    "for col in categorical_columns:\n",
    "    dataset[col].fillna(dataset[col].mode()[0], inplace=True)\n",
    "\n",
    "print(\"Valeurs manquantes après traitement :\")\n",
    "print(dataset.isnull().sum())"
   ]
  },
  {
   "cell_type": "code",
   "execution_count": 185,
   "metadata": {},
   "outputs": [
    {
     "name": "stdout",
     "output_type": "stream",
     "text": [
      "Valeurs aberrantes imputées avec succès.\n"
     ]
    }
   ],
   "source": [
    "def impute_outliers_iqr(data, column):\n",
    "    Q1 = data[column].quantile(0.25)\n",
    "    Q3 = data[column].quantile(0.75)\n",
    "    IQR = Q3 - Q1\n",
    "    lower_bound = Q1 - 1.5 * IQR\n",
    "    upper_bound = Q3 + 1.5 * IQR\n",
    "    data[column] = data[column].apply(\n",
    "        lambda x: lower_bound if x < lower_bound else (upper_bound if x > upper_bound else x)\n",
    "    )\n",
    "\n",
    "numeric_columns = dataset.select_dtypes(include=['float64', 'int64']).columns\n",
    "\n",
    "for col in numeric_columns:\n",
    "    impute_outliers_iqr(dataset, col)\n",
    "\n",
    "print(\"Valeurs aberrantes imputées avec succès.\")"
   ]
  },
  {
   "cell_type": "markdown",
   "metadata": {},
   "source": [
    "Transformation des données"
   ]
  },
  {
   "cell_type": "code",
   "execution_count": 186,
   "metadata": {},
   "outputs": [
    {
     "name": "stdout",
     "output_type": "stream",
     "text": [
      "Colonnes après encodage :\n",
      "      size_m2  num_bedrooms  num_bathrooms  distance_school  \\\n",
      "0  244.624214      2.789029       2.569210         4.148195   \n",
      "1   40.979846      2.651413       2.156254         2.734071   \n",
      "2   40.979846      3.476331       2.822102         0.563755   \n",
      "3  226.151493      4.121891       3.441496         8.647224   \n",
      "4  138.292331      2.685204       1.700071         8.129010   \n",
      "\n",
      "   public_transport_access  property_tax          price  \\\n",
      "0                 5.793163   1244.341795  629535.486411   \n",
      "1                 2.485035   -558.753511  682734.110117   \n",
      "2                 1.140312    230.558272  705054.855203   \n",
      "3                 8.958474   2114.877349  550261.271344   \n",
      "4                11.207891    886.508895  510619.235213   \n",
      "\n",
      "   date_built_1961-01-01  date_built_1962-01-01  date_built_1963-01-01  ...  \\\n",
      "0                    0.0                    0.0                    0.0  ...   \n",
      "1                    0.0                    0.0                    0.0  ...   \n",
      "2                    0.0                    0.0                    0.0  ...   \n",
      "3                    0.0                    1.0                    0.0  ...   \n",
      "4                    0.0                    0.0                    0.0  ...   \n",
      "\n",
      "   date_built_2014-01-01  date_built_2015-01-01  date_built_2016-01-01  \\\n",
      "0                    0.0                    0.0                    0.0   \n",
      "1                    1.0                    0.0                    0.0   \n",
      "2                    0.0                    0.0                    0.0   \n",
      "3                    0.0                    0.0                    0.0   \n",
      "4                    0.0                    0.0                    0.0   \n",
      "\n",
      "   date_built_2017-01-01  date_built_2018-01-01  date_built_2019-01-01  \\\n",
      "0                    0.0                    0.0                    0.0   \n",
      "1                    0.0                    0.0                    0.0   \n",
      "2                    0.0                    0.0                    0.0   \n",
      "3                    0.0                    0.0                    0.0   \n",
      "4                    0.0                    0.0                    0.0   \n",
      "\n",
      "   date_built_2020-01-01  city_Marseille  city_Paris  city_Toulouse  \n",
      "0                    0.0             0.0         1.0            0.0  \n",
      "1                    0.0             0.0         0.0            0.0  \n",
      "2                    0.0             0.0         0.0            0.0  \n",
      "3                    0.0             1.0         0.0            0.0  \n",
      "4                    0.0             0.0         0.0            1.0  \n",
      "\n",
      "[5 rows x 59 columns]\n"
     ]
    }
   ],
   "source": [
    "from sklearn.preprocessing import OneHotEncoder\n",
    "\n",
    "categorical_columns = dataset.select_dtypes(include=['object']).columns\n",
    "encoder = OneHotEncoder(sparse_output=False, drop='first')\n",
    "encoded_data = encoder.fit_transform(dataset[categorical_columns])\n",
    "encoded_df = pd.DataFrame(encoded_data, columns=encoder.get_feature_names_out(categorical_columns))\n",
    "\n",
    "dataset = pd.concat([dataset.drop(columns=categorical_columns), encoded_df], axis=1)\n",
    "print(\"Colonnes après encodage :\")\n",
    "print(dataset.head())"
   ]
  },
  {
   "cell_type": "code",
   "execution_count": 187,
   "metadata": {},
   "outputs": [
    {
     "name": "stdout",
     "output_type": "stream",
     "text": [
      "La colonne 'date_built' n'existe pas dans le dataset.\n"
     ]
    }
   ],
   "source": [
    "if 'date_built' in dataset.columns:\n",
    "    dataset['date_built'] = pd.to_datetime(dataset['date_built'], errors='coerce')\n",
    "    \n",
    "    dataset['month_built'] = dataset['date_built'].dt.month\n",
    "    \n",
    "    dataset.drop(columns=['date_built'], inplace=True)\n",
    "    \n",
    "    print(\"La colonne 'date_built' a été transformée en 'month_built'.\")\n",
    "    print(dataset.head())\n",
    "else:\n",
    "    print(\"La colonne 'date_built' n'existe pas dans le dataset.\")\n"
   ]
  },
  {
   "cell_type": "code",
   "execution_count": 188,
   "metadata": {},
   "outputs": [
    {
     "name": "stdout",
     "output_type": "stream",
     "text": [
      "Exemple des données standardisées :\n",
      "    size_m2  num_bedrooms  num_bathrooms  distance_school  \\\n",
      "0  2.121915     -0.125663       0.680200        -0.195770   \n",
      "1 -2.142356     -0.278292       0.102365        -0.686308   \n",
      "2 -2.142356      0.636623       1.034062        -1.439159   \n",
      "3  1.735100      1.352613       1.900758         1.364877   \n",
      "4 -0.104653     -0.240815      -0.535956         1.185116   \n",
      "\n",
      "   public_transport_access  property_tax     price  date_built_1961-01-01  \\\n",
      "0                 0.385530      0.362261  0.531447              -0.142857   \n",
      "1                -0.715481     -1.895848  0.906510              -0.142857   \n",
      "2                -1.163031     -0.907352  1.063877              -0.142857   \n",
      "3                 1.439009      1.452477 -0.027455              -0.142857   \n",
      "4                 2.187660     -0.085872 -0.306941              -0.142857   \n",
      "\n",
      "   date_built_1962-01-01  date_built_1963-01-01  ...  date_built_2014-01-01  \\\n",
      "0              -0.204124              -0.100504  ...              -0.229416   \n",
      "1              -0.204124              -0.100504  ...               4.358899   \n",
      "2              -0.204124              -0.100504  ...              -0.229416   \n",
      "3               4.898979              -0.100504  ...              -0.229416   \n",
      "4              -0.204124              -0.100504  ...              -0.229416   \n",
      "\n",
      "   date_built_2015-01-01  date_built_2016-01-01  date_built_2017-01-01  \\\n",
      "0              -0.100504              -0.142857              -0.100504   \n",
      "1              -0.100504              -0.142857              -0.100504   \n",
      "2              -0.100504              -0.142857              -0.100504   \n",
      "3              -0.100504              -0.142857              -0.100504   \n",
      "4              -0.100504              -0.142857              -0.100504   \n",
      "\n",
      "   date_built_2018-01-01  date_built_2019-01-01  date_built_2020-01-01  \\\n",
      "0              -0.100504              -0.142857              -0.142857   \n",
      "1              -0.100504              -0.142857              -0.142857   \n",
      "2              -0.100504              -0.142857              -0.142857   \n",
      "3              -0.100504              -0.142857              -0.142857   \n",
      "4              -0.100504              -0.142857              -0.142857   \n",
      "\n",
      "   city_Marseille  city_Paris  city_Toulouse  \n",
      "0       -0.468521    1.564697           -0.5  \n",
      "1       -0.468521   -0.639101           -0.5  \n",
      "2       -0.468521   -0.639101           -0.5  \n",
      "3        2.134375   -0.639101           -0.5  \n",
      "4       -0.468521   -0.639101            2.0  \n",
      "\n",
      "[5 rows x 59 columns]\n"
     ]
    }
   ],
   "source": [
    "from sklearn.preprocessing import StandardScaler\n",
    "\n",
    "scaler = StandardScaler()\n",
    "numeric_columns = dataset.select_dtypes(include=['float64', 'int64']).columns\n",
    "dataset[numeric_columns] = scaler.fit_transform(dataset[numeric_columns])\n",
    "\n",
    "print(\"Exemple des données standardisées :\")\n",
    "print(dataset.head())"
   ]
  },
  {
   "cell_type": "markdown",
   "metadata": {},
   "source": [
    "Optimisation des données"
   ]
  },
  {
   "cell_type": "code",
   "execution_count": 189,
   "metadata": {},
   "outputs": [
    {
     "name": "stdout",
     "output_type": "stream",
     "text": [
      "Features sélectionnées :\n",
      "['size_m2', 'num_bedrooms', 'num_bathrooms', 'date_built_1962-01-01', 'date_built_1963-01-01', 'date_built_1966-01-01', 'date_built_1967-01-01', 'date_built_1968-01-01', 'date_built_1971-01-01', 'date_built_1979-01-01', 'date_built_1993-01-01', 'date_built_1996-01-01', 'date_built_1998-01-01', 'date_built_2001-01-01', 'date_built_2002-01-01', 'date_built_2003-01-01', 'date_built_2006-01-01', 'date_built_2010-01-01', 'date_built_2013-01-01', 'date_built_2014-01-01', 'date_built_2016-01-01', 'date_built_2019-01-01', 'date_built_2020-01-01', 'city_Paris', 'city_Toulouse']\n",
      "\n",
      "Aperçu du nouveau dataset :\n",
      "    size_m2  num_bedrooms  num_bathrooms  date_built_1962-01-01  \\\n",
      "0  2.121915     -0.125663       0.680200              -0.204124   \n",
      "1 -2.142356     -0.278292       0.102365              -0.204124   \n",
      "2 -2.142356      0.636623       1.034062              -0.204124   \n",
      "3  1.735100      1.352613       1.900758               4.898979   \n",
      "4 -0.104653     -0.240815      -0.535956              -0.204124   \n",
      "\n",
      "   date_built_1963-01-01  date_built_1966-01-01  date_built_1967-01-01  \\\n",
      "0              -0.100504              -0.175863              -0.175863   \n",
      "1              -0.100504              -0.175863              -0.175863   \n",
      "2              -0.100504              -0.175863              -0.175863   \n",
      "3              -0.100504              -0.175863              -0.175863   \n",
      "4              -0.100504              -0.175863              -0.175863   \n",
      "\n",
      "   date_built_1968-01-01  date_built_1971-01-01  date_built_1979-01-01  ...  \\\n",
      "0              -0.100504              -0.100504              -0.142857  ...   \n",
      "1              -0.100504              -0.100504              -0.142857  ...   \n",
      "2              -0.100504              -0.100504              -0.142857  ...   \n",
      "3              -0.100504              -0.100504              -0.142857  ...   \n",
      "4              -0.100504              -0.100504              -0.142857  ...   \n",
      "\n",
      "   date_built_2006-01-01  date_built_2010-01-01  date_built_2013-01-01  \\\n",
      "0              -0.175863              -0.100504              -0.142857   \n",
      "1              -0.175863              -0.100504              -0.142857   \n",
      "2              -0.175863              -0.100504              -0.142857   \n",
      "3              -0.175863              -0.100504              -0.142857   \n",
      "4              -0.175863              -0.100504              -0.142857   \n",
      "\n",
      "   date_built_2014-01-01  date_built_2016-01-01  date_built_2019-01-01  \\\n",
      "0              -0.229416              -0.142857              -0.142857   \n",
      "1               4.358899              -0.142857              -0.142857   \n",
      "2              -0.229416              -0.142857              -0.142857   \n",
      "3              -0.229416              -0.142857              -0.142857   \n",
      "4              -0.229416              -0.142857              -0.142857   \n",
      "\n",
      "   date_built_2020-01-01  city_Paris  city_Toulouse     price  \n",
      "0              -0.142857    1.564697           -0.5  0.531447  \n",
      "1              -0.142857   -0.639101           -0.5  0.906510  \n",
      "2              -0.142857   -0.639101           -0.5  1.063877  \n",
      "3              -0.142857   -0.639101           -0.5 -0.027455  \n",
      "4              -0.142857   -0.639101            2.0 -0.306941  \n",
      "\n",
      "[5 rows x 26 columns]\n"
     ]
    }
   ],
   "source": [
    "correlation_matrix = dataset.corr()\n",
    "\n",
    "correlations_with_target = correlation_matrix['price'].abs()\n",
    "\n",
    "selected_features = correlations_with_target[correlations_with_target > 0.1].index.tolist()\n",
    "\n",
    "selected_features.remove('price')\n",
    "\n",
    "dataset_selected = dataset[selected_features + ['price']]\n",
    "\n",
    "print(\"Features sélectionnées :\")\n",
    "print(selected_features)\n",
    "print(\"\\nAperçu du nouveau dataset :\")\n",
    "print(dataset_selected.head())"
   ]
  },
  {
   "cell_type": "code",
   "execution_count": 190,
   "metadata": {},
   "outputs": [
    {
     "name": "stdout",
     "output_type": "stream",
     "text": [
      "Inertie expliquée par PC1 et PC2 :\n",
      "PC1 : 5.73%, PC2 : 5.45%\n",
      "\n",
      "Aperçu du dataset réduit :\n",
      "        PC1       PC2     price\n",
      "0  1.844036 -0.125816  0.531447\n",
      "1 -2.445640 -1.071083  0.906510\n",
      "2 -1.748026 -2.351803  1.063877\n",
      "3  3.642090  0.925595 -0.027455\n",
      "4 -0.172449  2.278936 -0.306941\n"
     ]
    }
   ],
   "source": [
    "from sklearn.decomposition import PCA\n",
    "\n",
    "pca = PCA(n_components=2)\n",
    "\n",
    "features = dataset.drop(columns=['price'])\n",
    "reduced_features = pca.fit_transform(features)\n",
    "\n",
    "reduced_dataset = pd.DataFrame(reduced_features, columns=['PC1', 'PC2'])\n",
    "reduced_dataset['price'] = dataset['price']\n",
    "\n",
    "explained_variance = pca.explained_variance_ratio_\n",
    "print(\"Inertie expliquée par PC1 et PC2 :\")\n",
    "print(f\"PC1 : {explained_variance[0]:.2%}, PC2 : {explained_variance[1]:.2%}\")\n",
    "\n",
    "print(\"\\nAperçu du dataset réduit :\")\n",
    "print(reduced_dataset.head())"
   ]
  },
  {
   "cell_type": "markdown",
   "metadata": {},
   "source": [
    "## Modeling"
   ]
  },
  {
   "cell_type": "code",
   "execution_count": 191,
   "metadata": {},
   "outputs": [
    {
     "name": "stdout",
     "output_type": "stream",
     "text": [
      "Dimensions de l'ensemble d'entraînement : X_train = (80, 58), y_train = (80,)\n",
      "Dimensions de l'ensemble de test : X_test = (20, 58), y_test = (20,)\n",
      "Performance des modèles :\n"
     ]
    },
    {
     "data": {
      "text/html": [
       "<div>\n",
       "<style scoped>\n",
       "    .dataframe tbody tr th:only-of-type {\n",
       "        vertical-align: middle;\n",
       "    }\n",
       "\n",
       "    .dataframe tbody tr th {\n",
       "        vertical-align: top;\n",
       "    }\n",
       "\n",
       "    .dataframe thead th {\n",
       "        text-align: right;\n",
       "    }\n",
       "</style>\n",
       "<table border=\"1\" class=\"dataframe\">\n",
       "  <thead>\n",
       "    <tr style=\"text-align: right;\">\n",
       "      <th></th>\n",
       "      <th>Model</th>\n",
       "      <th>RMSE</th>\n",
       "      <th>MAE</th>\n",
       "      <th>R²</th>\n",
       "    </tr>\n",
       "  </thead>\n",
       "  <tbody>\n",
       "    <tr>\n",
       "      <th>2</th>\n",
       "      <td>Random Forest</td>\n",
       "      <td>8.329230e-01</td>\n",
       "      <td>6.753770e-01</td>\n",
       "      <td>2.288114e-01</td>\n",
       "    </tr>\n",
       "    <tr>\n",
       "      <th>1</th>\n",
       "      <td>Decision Tree</td>\n",
       "      <td>1.047568e+00</td>\n",
       "      <td>8.593224e-01</td>\n",
       "      <td>-2.198749e-01</td>\n",
       "    </tr>\n",
       "    <tr>\n",
       "      <th>0</th>\n",
       "      <td>Linear Regression</td>\n",
       "      <td>4.056310e+12</td>\n",
       "      <td>1.393504e+12</td>\n",
       "      <td>-1.828998e+25</td>\n",
       "    </tr>\n",
       "  </tbody>\n",
       "</table>\n",
       "</div>"
      ],
      "text/plain": [
       "               Model          RMSE           MAE            R²\n",
       "2      Random Forest  8.329230e-01  6.753770e-01  2.288114e-01\n",
       "1      Decision Tree  1.047568e+00  8.593224e-01 -2.198749e-01\n",
       "0  Linear Regression  4.056310e+12  1.393504e+12 -1.828998e+25"
      ]
     },
     "metadata": {},
     "output_type": "display_data"
    }
   ],
   "source": [
    "from sklearn.model_selection import train_test_split\n",
    "\n",
    "X = dataset.drop(columns=['price'])\n",
    "y = dataset['price']\n",
    "\n",
    "X_train, X_test, y_train, y_test = train_test_split(X, y, test_size=0.2, random_state=42)\n",
    "\n",
    "print(f\"Dimensions de l'ensemble d'entraînement : X_train = {X_train.shape}, y_train = {y_train.shape}\")\n",
    "print(f\"Dimensions de l'ensemble de test : X_test = {X_test.shape}, y_test = {y_test.shape}\")\n",
    "\n",
    "from sklearn.linear_model import LinearRegression\n",
    "from sklearn.tree import DecisionTreeRegressor\n",
    "from sklearn.ensemble import RandomForestRegressor\n",
    "from sklearn.metrics import mean_squared_error, mean_absolute_error, r2_score\n",
    "import numpy as np\n",
    "\n",
    "models = {\n",
    "    \"Linear Regression\": LinearRegression(),\n",
    "    \"Decision Tree\": DecisionTreeRegressor(random_state=42),\n",
    "    \"Random Forest\": RandomForestRegressor(random_state=42)\n",
    "}\n",
    "\n",
    "results = []\n",
    "for name, model in models.items():\n",
    "    model.fit(X_train, y_train)\n",
    "    \n",
    "    y_pred = model.predict(X_test)\n",
    "    \n",
    "    rmse = np.sqrt(mean_squared_error(y_test, y_pred))\n",
    "    mae = mean_absolute_error(y_test, y_pred)\n",
    "    r2 = r2_score(y_test, y_pred)\n",
    "    \n",
    "    results.append({\"Model\": name, \"RMSE\": rmse, \"MAE\": mae, \"R²\": r2})\n",
    "\n",
    "import pandas as pd\n",
    "results_df = pd.DataFrame(results)\n",
    "print(\"Performance des modèles :\")\n",
    "display(results_df.sort_values(by=\"RMSE\", ascending=True))"
   ]
  },
  {
   "cell_type": "markdown",
   "metadata": {},
   "source": [
    "## Evaluation"
   ]
  },
  {
   "cell_type": "markdown",
   "metadata": {
    "vscode": {
     "languageId": "plaintext"
    }
   },
   "source": [
    "Prédire les sorties des données de train et de test avec le modèle entrainé"
   ]
  },
  {
   "cell_type": "code",
   "execution_count": 192,
   "metadata": {},
   "outputs": [
    {
     "name": "stdout",
     "output_type": "stream",
     "text": [
      "Exemples de prédictions sur l'ensemble d'entraînement :\n"
     ]
    },
    {
     "data": {
      "text/html": [
       "<div>\n",
       "<style scoped>\n",
       "    .dataframe tbody tr th:only-of-type {\n",
       "        vertical-align: middle;\n",
       "    }\n",
       "\n",
       "    .dataframe tbody tr th {\n",
       "        vertical-align: top;\n",
       "    }\n",
       "\n",
       "    .dataframe thead th {\n",
       "        text-align: right;\n",
       "    }\n",
       "</style>\n",
       "<table border=\"1\" class=\"dataframe\">\n",
       "  <thead>\n",
       "    <tr style=\"text-align: right;\">\n",
       "      <th></th>\n",
       "      <th>Réel</th>\n",
       "      <th>Prédit</th>\n",
       "    </tr>\n",
       "  </thead>\n",
       "  <tbody>\n",
       "    <tr>\n",
       "      <th>55</th>\n",
       "      <td>0.961319</td>\n",
       "      <td>0.740240</td>\n",
       "    </tr>\n",
       "    <tr>\n",
       "      <th>88</th>\n",
       "      <td>-0.162786</td>\n",
       "      <td>-0.284257</td>\n",
       "    </tr>\n",
       "    <tr>\n",
       "      <th>26</th>\n",
       "      <td>0.466115</td>\n",
       "      <td>0.067249</td>\n",
       "    </tr>\n",
       "    <tr>\n",
       "      <th>42</th>\n",
       "      <td>-0.315321</td>\n",
       "      <td>-0.213634</td>\n",
       "    </tr>\n",
       "    <tr>\n",
       "      <th>69</th>\n",
       "      <td>-0.357320</td>\n",
       "      <td>-0.250751</td>\n",
       "    </tr>\n",
       "    <tr>\n",
       "      <th>15</th>\n",
       "      <td>-0.549462</td>\n",
       "      <td>-0.347920</td>\n",
       "    </tr>\n",
       "    <tr>\n",
       "      <th>40</th>\n",
       "      <td>1.028372</td>\n",
       "      <td>0.893220</td>\n",
       "    </tr>\n",
       "    <tr>\n",
       "      <th>96</th>\n",
       "      <td>0.965954</td>\n",
       "      <td>0.619006</td>\n",
       "    </tr>\n",
       "    <tr>\n",
       "      <th>9</th>\n",
       "      <td>0.955432</td>\n",
       "      <td>0.800597</td>\n",
       "    </tr>\n",
       "    <tr>\n",
       "      <th>72</th>\n",
       "      <td>-0.272561</td>\n",
       "      <td>-0.116720</td>\n",
       "    </tr>\n",
       "  </tbody>\n",
       "</table>\n",
       "</div>"
      ],
      "text/plain": [
       "        Réel    Prédit\n",
       "55  0.961319  0.740240\n",
       "88 -0.162786 -0.284257\n",
       "26  0.466115  0.067249\n",
       "42 -0.315321 -0.213634\n",
       "69 -0.357320 -0.250751\n",
       "15 -0.549462 -0.347920\n",
       "40  1.028372  0.893220\n",
       "96  0.965954  0.619006\n",
       "9   0.955432  0.800597\n",
       "72 -0.272561 -0.116720"
      ]
     },
     "metadata": {},
     "output_type": "display_data"
    },
    {
     "name": "stdout",
     "output_type": "stream",
     "text": [
      "\n",
      "Exemples de prédictions sur l'ensemble de test :\n"
     ]
    },
    {
     "data": {
      "text/html": [
       "<div>\n",
       "<style scoped>\n",
       "    .dataframe tbody tr th:only-of-type {\n",
       "        vertical-align: middle;\n",
       "    }\n",
       "\n",
       "    .dataframe tbody tr th {\n",
       "        vertical-align: top;\n",
       "    }\n",
       "\n",
       "    .dataframe thead th {\n",
       "        text-align: right;\n",
       "    }\n",
       "</style>\n",
       "<table border=\"1\" class=\"dataframe\">\n",
       "  <thead>\n",
       "    <tr style=\"text-align: right;\">\n",
       "      <th></th>\n",
       "      <th>Réel</th>\n",
       "      <th>Prédit</th>\n",
       "    </tr>\n",
       "  </thead>\n",
       "  <tbody>\n",
       "    <tr>\n",
       "      <th>83</th>\n",
       "      <td>0.366139</td>\n",
       "      <td>-0.256809</td>\n",
       "    </tr>\n",
       "    <tr>\n",
       "      <th>53</th>\n",
       "      <td>0.446855</td>\n",
       "      <td>0.842071</td>\n",
       "    </tr>\n",
       "    <tr>\n",
       "      <th>70</th>\n",
       "      <td>0.572160</td>\n",
       "      <td>0.548617</td>\n",
       "    </tr>\n",
       "    <tr>\n",
       "      <th>45</th>\n",
       "      <td>0.900358</td>\n",
       "      <td>-0.415720</td>\n",
       "    </tr>\n",
       "    <tr>\n",
       "      <th>44</th>\n",
       "      <td>-0.861120</td>\n",
       "      <td>-1.284106</td>\n",
       "    </tr>\n",
       "    <tr>\n",
       "      <th>39</th>\n",
       "      <td>0.019051</td>\n",
       "      <td>0.000723</td>\n",
       "    </tr>\n",
       "    <tr>\n",
       "      <th>22</th>\n",
       "      <td>1.103708</td>\n",
       "      <td>0.288906</td>\n",
       "    </tr>\n",
       "    <tr>\n",
       "      <th>80</th>\n",
       "      <td>-1.127448</td>\n",
       "      <td>0.132248</td>\n",
       "    </tr>\n",
       "    <tr>\n",
       "      <th>10</th>\n",
       "      <td>0.848350</td>\n",
       "      <td>-0.100483</td>\n",
       "    </tr>\n",
       "    <tr>\n",
       "      <th>0</th>\n",
       "      <td>0.531447</td>\n",
       "      <td>0.672844</td>\n",
       "    </tr>\n",
       "  </tbody>\n",
       "</table>\n",
       "</div>"
      ],
      "text/plain": [
       "        Réel    Prédit\n",
       "83  0.366139 -0.256809\n",
       "53  0.446855  0.842071\n",
       "70  0.572160  0.548617\n",
       "45  0.900358 -0.415720\n",
       "44 -0.861120 -1.284106\n",
       "39  0.019051  0.000723\n",
       "22  1.103708  0.288906\n",
       "80 -1.127448  0.132248\n",
       "10  0.848350 -0.100483\n",
       "0   0.531447  0.672844"
      ]
     },
     "metadata": {},
     "output_type": "display_data"
    }
   ],
   "source": [
    "if 'metrics' not in locals():\n",
    "    metrics = pd.DataFrame(results)\n",
    "    print(\"Variable 'metrics' créée avec succès.\")\n",
    "\n",
    "if 'metrics_sorted' not in locals():\n",
    "    metrics_sorted = metrics.sort_values(by='RMSE', ascending=True)\n",
    "    print(\"Résumé des performances des modèles :\")\n",
    "    display(metrics_sorted)\n",
    "\n",
    "best_model_name = metrics_sorted.iloc[0]['Model']\n",
    "best_model = models[best_model_name]\n",
    "\n",
    "y_train_pred = best_model.predict(X_train)\n",
    "\n",
    "y_test_pred = best_model.predict(X_test)\n",
    "\n",
    "print(\"Exemples de prédictions sur l'ensemble d'entraînement :\")\n",
    "train_predictions = pd.DataFrame({'Réel': y_train, 'Prédit': y_train_pred}).head(10)\n",
    "display(train_predictions)\n",
    "\n",
    "print(\"\\nExemples de prédictions sur l'ensemble de test :\")\n",
    "test_predictions = pd.DataFrame({'Réel': y_test, 'Prédit': y_test_pred}).head(10)\n",
    "display(test_predictions)"
   ]
  },
  {
   "cell_type": "markdown",
   "metadata": {},
   "source": [
    "Evaluer la performance du modèle"
   ]
  },
  {
   "cell_type": "code",
   "execution_count": 193,
   "metadata": {},
   "outputs": [
    {
     "name": "stdout",
     "output_type": "stream",
     "text": [
      "Évaluation des performances du modèle sélectionné :\n",
      "Mean Squared Error (MSE) : 0.69\n",
      "Mean Absolute Error (MAE) : 0.68\n",
      "Coefficient de Détermination (R²) : 0.23\n"
     ]
    }
   ],
   "source": [
    "from sklearn.metrics import mean_squared_error, mean_absolute_error, r2_score\n",
    "\n",
    "mse = mean_squared_error(y_test, y_test_pred)\n",
    "mae = mean_absolute_error(y_test, y_test_pred)\n",
    "r2 = r2_score(y_test, y_test_pred)\n",
    "\n",
    "print(f\"Évaluation des performances du modèle sélectionné :\")\n",
    "print(f\"Mean Squared Error (MSE) : {mse:.2f}\")\n",
    "print(f\"Mean Absolute Error (MAE) : {mae:.2f}\")\n",
    "print(f\"Coefficient de Détermination (R²) : {r2:.2f}\")"
   ]
  },
  {
   "cell_type": "code",
   "execution_count": 194,
   "metadata": {},
   "outputs": [
    {
     "name": "stdout",
     "output_type": "stream",
     "text": [
      "Coefficient de Détermination (R²) : 0.23\n"
     ]
    }
   ],
   "source": [
    "from sklearn.metrics import r2_score\n",
    "\n",
    "r2 = r2_score(y_test, y_test_pred)\n",
    "\n",
    "print(f\"Coefficient de Détermination (R²) : {r2:.2f}\")"
   ]
  },
  {
   "cell_type": "markdown",
   "metadata": {},
   "source": [
    "## Déploiement"
   ]
  },
  {
   "cell_type": "markdown",
   "metadata": {},
   "source": [
    "Utiliser le modèle évalué pour prédire le prix d'un apprtement quelconque"
   ]
  },
  {
   "cell_type": "code",
   "execution_count": 195,
   "metadata": {},
   "outputs": [
    {
     "name": "stdout",
     "output_type": "stream",
     "text": [
      "Exemple des données standardisées :\n",
      "    size_m2  num_bedrooms  num_bathrooms  distance_school  \\\n",
      "0  2.121915     -0.125663       0.680200        -0.195770   \n",
      "1 -2.142356     -0.278292       0.102365        -0.686308   \n",
      "2 -2.142356      0.636623       1.034062        -1.439159   \n",
      "3  1.735100      1.352613       1.900758         1.364877   \n",
      "4 -0.104653     -0.240815      -0.535956         1.185116   \n",
      "\n",
      "   public_transport_access  property_tax  date_built_1961-01-01  \\\n",
      "0                 0.385530      0.362261              -0.142857   \n",
      "1                -0.715481     -1.895848              -0.142857   \n",
      "2                -1.163031     -0.907352              -0.142857   \n",
      "3                 1.439009      1.452477              -0.142857   \n",
      "4                 2.187660     -0.085872              -0.142857   \n",
      "\n",
      "   date_built_1962-01-01  date_built_1963-01-01  date_built_1964-01-01  ...  \\\n",
      "0              -0.204124              -0.100504              -0.142857  ...   \n",
      "1              -0.204124              -0.100504              -0.142857  ...   \n",
      "2              -0.204124              -0.100504              -0.142857  ...   \n",
      "3               4.898979              -0.100504              -0.142857  ...   \n",
      "4              -0.204124              -0.100504              -0.142857  ...   \n",
      "\n",
      "   date_built_2015-01-01  date_built_2016-01-01  date_built_2017-01-01  \\\n",
      "0              -0.100504              -0.142857              -0.100504   \n",
      "1              -0.100504              -0.142857              -0.100504   \n",
      "2              -0.100504              -0.142857              -0.100504   \n",
      "3              -0.100504              -0.142857              -0.100504   \n",
      "4              -0.100504              -0.142857              -0.100504   \n",
      "\n",
      "   date_built_2018-01-01  date_built_2019-01-01  date_built_2020-01-01  \\\n",
      "0              -0.100504              -0.142857              -0.142857   \n",
      "1              -0.100504              -0.142857              -0.142857   \n",
      "2              -0.100504              -0.142857              -0.142857   \n",
      "3              -0.100504              -0.142857              -0.142857   \n",
      "4              -0.100504              -0.142857              -0.142857   \n",
      "\n",
      "   city_Marseille  city_Paris  city_Toulouse     price  \n",
      "0       -0.468521    1.564697           -0.5  0.531447  \n",
      "1       -0.468521   -0.639101           -0.5  0.906510  \n",
      "2       -0.468521   -0.639101           -0.5  1.063877  \n",
      "3        2.134375   -0.639101           -0.5 -0.027455  \n",
      "4       -0.468521   -0.639101            2.0 -0.306941  \n",
      "\n",
      "[5 rows x 59 columns]\n"
     ]
    }
   ],
   "source": [
    "from sklearn.preprocessing import StandardScaler\n",
    "\n",
    "# Séparer explicitement les features et la cible avant la normalisation\n",
    "X = dataset.drop(columns=['price'])  # Exclure la colonne cible\n",
    "y = dataset['price']\n",
    "\n",
    "# Normaliser uniquement les colonnes numériques des features\n",
    "scaler = StandardScaler()\n",
    "X_scaled = pd.DataFrame(scaler.fit_transform(X), columns=X.columns)\n",
    "\n",
    "# Réintégrer la cible pour reformer le dataset si nécessaire\n",
    "dataset_scaled = X_scaled.copy()\n",
    "dataset_scaled['price'] = y\n",
    "\n",
    "print(\"Exemple des données standardisées :\")\n",
    "print(dataset_scaled.head())\n"
   ]
  }
 ],
 "metadata": {
  "kernelspec": {
   "display_name": "Python 3",
   "language": "python",
   "name": "python3"
  },
  "language_info": {
   "codemirror_mode": {
    "name": "ipython",
    "version": 3
   },
   "file_extension": ".py",
   "mimetype": "text/x-python",
   "name": "python",
   "nbconvert_exporter": "python",
   "pygments_lexer": "ipython3",
   "version": "3.12.7"
  }
 },
 "nbformat": 4,
 "nbformat_minor": 2
}
